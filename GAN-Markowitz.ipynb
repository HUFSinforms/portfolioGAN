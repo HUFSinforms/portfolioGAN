{
 "cells": [
  {
   "cell_type": "code",
   "execution_count": 79,
   "metadata": {},
   "outputs": [],
   "source": [
    "import tensorflow as tf\n",
    "import matplotlib.pyplot as plt\n",
    "import numpy as np\n",
    "from matplotlib import pyplot\n",
    "import math\n",
    "import random as ran\n",
    "from scipy.stats import truncnorm"
   ]
  },
  {
   "cell_type": "code",
   "execution_count": 80,
   "metadata": {
    "collapsed": true
   },
   "outputs": [],
   "source": [
    "###real data 임시생성\n",
    "size=20\n",
    "a=[0]*size\n",
    "for i in range(size):\n",
    "    r = [ran.random() for i in range(500)]\n",
    "    s = sum(r)\n",
    "    r = [ i/s for i in r ]\n",
    "    a[i]=r\n",
    "a=np.array(a)"
   ]
  },
  {
   "cell_type": "code",
   "execution_count": 81,
   "metadata": {
    "collapsed": true
   },
   "outputs": [],
   "source": [
    "total_epoch = 100\n",
    "batch_size = 5\n",
    "learning_rate = 0.0002\n",
    "\n",
    "n_hidden = 256\n",
    "n_input = 500 * 1\n",
    "n_noise = 1"
   ]
  },
  {
   "cell_type": "code",
   "execution_count": 82,
   "metadata": {
    "collapsed": true
   },
   "outputs": [],
   "source": [
    "X = tf.placeholder(tf.float32)\n",
    "Z = tf.placeholder(tf.float32, [None, n_noise])\n",
    "\n",
    "G_W1 = tf.Variable(tf.random_normal([n_noise, n_hidden], stddev=0.5))\n",
    "G_b1 = tf.Variable(tf.zeros([n_hidden]))\n",
    "G_W2 = tf.Variable(tf.random_normal([n_hidden, n_input], stddev=0.1))\n",
    "G_b2 = tf.Variable(tf.zeros([n_input]))\n",
    "s=tf.Variable(0.)\n"
   ]
  },
  {
   "cell_type": "code",
   "execution_count": 83,
   "metadata": {},
   "outputs": [],
   "source": [
    "def generator(noise_z):\n",
    "    hidden = tf.nn.relu(\n",
    "                    tf.matmul(noise_z, G_W1) + G_b1)\n",
    "    out = tf.nn.relu(\n",
    "                    tf.matmul(hidden, G_W2) + G_b2)\n",
    "    \n",
    "# 생성된 값을 0.3(new_min)~0.6(new_max) 값으로 반환    \n",
    "    ma=tf.reduce_max(out)\n",
    "    mi=tf.reduce_min(out)\n",
    "\n",
    "    out2 = tf.div(\n",
    "       tf.subtract(\n",
    "          out, mi\n",
    "       ), \n",
    "       tf.subtract(\n",
    "          ma,mi\n",
    "       ))\n",
    "\n",
    "    output=tf.add(tf.multiply(tf.constant(0.3,shape=[1,500]),out2),tf.constant(0.3,shape=[1,500]))\n",
    "    return output\n"
   ]
  },
  {
   "cell_type": "code",
   "execution_count": 84,
   "metadata": {
    "collapsed": true
   },
   "outputs": [],
   "source": [
    "def discriminator(inputs):\n",
    "    \n",
    "# 기준 값a[0]과 비슷하게 출력\n",
    "    arg = tf.convert_to_tensor(a[0], dtype=tf.float32)\n",
    "    out=tf.subtract(inputs,arg)\n",
    "    out2= tf.reduce_sum(out)\n",
    "\n",
    "\n",
    "# sum w_i = 1이 최대한 되도록!\n",
    "    out=tf.reduce_sum(inputs)\n",
    "    k=tf.subtract(out,1.)\n",
    "    output=tf.cond(k<0,lambda:-k,lambda:k)\n",
    "    \n",
    "\n",
    "    return output"
   ]
  },
  {
   "cell_type": "code",
   "execution_count": 85,
   "metadata": {
    "collapsed": true
   },
   "outputs": [],
   "source": [
    "def get_noise(batch_size, n_noise):\n",
    "    return np.random.normal(size=(batch_size, n_noise))"
   ]
  },
  {
   "cell_type": "code",
   "execution_count": 86,
   "metadata": {},
   "outputs": [],
   "source": [
    "G = generator(Z)\n",
    "loss_G = discriminator(G)\n",
    "\n",
    "saver = tf.train.Saver()\n",
    "G_var_list = [G_W1, G_b1, G_W2, G_b2,s]\n",
    "\n",
    "train_G = tf.train.AdamOptimizer(learning_rate).minimize(loss_G,\n",
    "                                                       var_list=G_var_list)\n"
   ]
  },
  {
   "cell_type": "code",
   "execution_count": 87,
   "metadata": {
    "scrolled": true
   },
   "outputs": [],
   "source": [
    "sess = tf.Session()\n",
    "sess.run(tf.global_variables_initializer())\n",
    "\n",
    "total_batch = int(size/batch_size)\n",
    "loss_val_G = 0\n",
    "\n",
    "for epoch in range(total_epoch):\n",
    "\n",
    "    \n",
    "# 자산 갯수 중 100개만 선택해라 !\n",
    "    s=-100\n",
    "    noise = get_noise(1, n_noise)\n",
    "    dfd= sess.run(G, feed_dict={Z: noise})\n",
    "    for j in range(500):\n",
    "        if dfd[0][j]>0:\n",
    "            s=s+1\n",
    "    if s<0 : s=-s\n",
    "    else: s=s\n",
    "\n",
    "    loss_G = discriminator(G)+s   \n",
    "    _, loss_val_G = sess.run([train_G, loss_G],\n",
    "                             feed_dict={Z: noise})\n",
    "    val.append(loss_val_G)\n",
    "    \n",
    "    #save_path = saver.save(sess, \"./model.ckpt\")\n",
    "\n",
    "\n"
   ]
  }
 ],
 "metadata": {
  "kernelspec": {
   "display_name": "Python 3",
   "language": "python",
   "name": "python3"
  },
  "language_info": {
   "codemirror_mode": {
    "name": "ipython",
    "version": 3
   },
   "file_extension": ".py",
   "mimetype": "text/x-python",
   "name": "python",
   "nbconvert_exporter": "python",
   "pygments_lexer": "ipython3",
   "version": "3.6.3"
  }
 },
 "nbformat": 4,
 "nbformat_minor": 2
}
